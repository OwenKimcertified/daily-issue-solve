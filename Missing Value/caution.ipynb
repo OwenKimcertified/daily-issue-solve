{
 "cells": [
  {
   "cell_type": "markdown",
   "metadata": {},
   "source": [
    "### Data Leakage\n",
    "\n",
    "train set 과 test set 으로 분할 전 \n",
    "\n",
    "nan 값에 대해서 임퓨터로 결측치를 채우고 분할했으면 test 셋에 train set 의 데이터가 흘러들어온 상태\n",
    "\n",
    "-> test set 의 가치가 희석된다.\n",
    "\n",
    "전처리를 하기전에 깊게 생각하고 파이프라인을 이용하자"
   ]
  },
  {
   "cell_type": "markdown",
   "metadata": {},
   "source": [
    "### Cross validation for generalization\n",
    "\n",
    "__2, 3 way hold out__ -> 데이터 셋이 작은 경우 고려해봐야함.\n",
    "\n",
    "\n",
    "train_test_split(df, test_size = 1-n, test_size = 1-(n+m), random_state = k)\n",
    "\n",
    "__k-fold__ -> 데이터 셋이 작은 단점을 어느정도 커버 가능.\n",
    "\n",
    "kf = KFold(n_splits= n) # 등분 시켜주기\n",
    "\n",
    "for train_idx, test_idx in kf.split(X_train) :\n",
    "    X_train_cv, X_val_cv = X_train.iloc[train_idx], X_train.iloc[test_idx]\n",
    "    y_train_cv, y_val_cv = y_train.iloc[train_idx], y_train.iloc[test_idx]\n",
    "\n",
    "\n",
    "__cross_val_score__\n",
    "\n",
    "검증 스코어 구하기.\n",
    "\n",
    "ref code :\n",
    "cv_results = cross_val_score(\n",
    "    model, \n",
    "    X_train, \n",
    "    y_train, \n",
    "    cv = n,\n",
    "    scoring = \"neg_mean_absolute_error\" (오차는 작아야 좋으니 neg),\n",
    "    n_jobs=-1\n",
    "    )\n",
    " "
   ]
  },
  {
   "cell_type": "markdown",
   "metadata": {},
   "source": [
    "### Check point\n",
    "\n",
    "데이터의 분포 확인하기 ★\n",
    "\n",
    "SelectKBest 를 이용해서 __검증 점수__ 를 높이는 쪽으로 테스트하기\n",
    "\n",
    "pd.Series(model.coef_, X_train.columns) 로 모델에 쓰인 계수 확인하기.\n",
    "\n",
    "train val test 로 나눠 검증스코어를 지속적으로 확인 -> 파라미터 조정 후에 마지막 test score 확인 시 test val 합치고 모델에 fit ★ \n",
    "\n",
    "predict_proba -> 범주에 속할 확률을 반환 -> predict 랑 차이가 있는데 각 메소드마다 요구하는 요구사항에 맞게 생각하며 값 대입해주기."
   ]
  }
 ],
 "metadata": {
  "kernelspec": {
   "display_name": "Python 3.10.0 64-bit",
   "language": "python",
   "name": "python3"
  },
  "language_info": {
   "codemirror_mode": {
    "name": "ipython",
    "version": 3
   },
   "file_extension": ".py",
   "mimetype": "text/x-python",
   "name": "python",
   "nbconvert_exporter": "python",
   "pygments_lexer": "ipython3",
   "version": "3.10.0"
  },
  "orig_nbformat": 4,
  "vscode": {
   "interpreter": {
    "hash": "369f2c481f4da34e4445cda3fffd2e751bd1c4d706f27375911949ba6bb62e1c"
   }
  }
 },
 "nbformat": 4,
 "nbformat_minor": 2
}
