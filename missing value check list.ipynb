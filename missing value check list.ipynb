{
 "cells": [
  {
   "cell_type": "markdown",
   "metadata": {},
   "source": [
    "### How to handle Missing Value ??\n",
    "\n",
    "지속적으로 업데이트 할 예정입니다.\n",
    "\n",
    "항상 문제가 되는 부분이고 데이터에따라 항상 달라지는 부분일 것 같습니다.\n",
    "\n",
    "저는 해볼 수 있는 것은 다~ 해본다. 라는 마음가짐으로 \n",
    "\n",
    "할 수 있는 모든 것을 다 해본 후 Cross valildation을 이용하여\n",
    "\n",
    "각 평가지표에 맞는 점수가 제일 잘 나온 것으로 결정한다. 라는 Kaggle 그랜드 마스터 Rob님의 \n",
    "\n",
    "방향을 따르기로 했습니다...."
   ]
  },
  {
   "cell_type": "markdown",
   "metadata": {},
   "source": [
    "Q1. what is first -> imputing or normalization\n",
    "\n",
    "A. it depens\n",
    "\n",
    "Q2. time series missing values\n",
    "\n",
    "A. bfill, fill and fill missing values with (x1 < nan < x2) x1, x2 mean. or knnimputer\n",
    "\n",
    "Q3. Missing values in Category Feature (ordinal, onehot whatever..)\n",
    "\n",
    "A. use lgbm imputer (and even it`s not the best), have to consider which one is first imputing or normalization\n",
    "\n",
    "A. actually there's no rule.. So we have to consider every direction and to go way that how to improve our cross validation score"
   ]
  }
 ],
 "metadata": {
  "kernelspec": {
   "display_name": "Python 3.10.0 64-bit",
   "language": "python",
   "name": "python3"
  },
  "language_info": {
   "codemirror_mode": {
    "name": "ipython",
    "version": 3
   },
   "file_extension": ".py",
   "mimetype": "text/x-python",
   "name": "python",
   "nbconvert_exporter": "python",
   "pygments_lexer": "ipython3",
   "version": "3.10.0"
  },
  "orig_nbformat": 4,
  "vscode": {
   "interpreter": {
    "hash": "369f2c481f4da34e4445cda3fffd2e751bd1c4d706f27375911949ba6bb62e1c"
   }
  }
 },
 "nbformat": 4,
 "nbformat_minor": 2
}
