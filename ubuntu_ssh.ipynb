{
 "cells": [
  {
   "cell_type": "markdown",
   "metadata": {},
   "source": [
    "# SSH (linux) mechanism\n",
    "\n",
    "Ubuntu(linux) 환경에서 하둡을 설치하다가 처음 경험하는 개념을 공부하고 정리한다.\n",
    "\n",
    "hadoop 을 위한 ssh 설정 과정에서 많은 시간을 허비했고, ssh 가 뭔지 알기 위해 공부했던 내용이다.\n",
    "\n",
    "ssh 는 Secure shell 의 줄임말이고 네트워크 상에서 원격으로 컴퓨터, 서버에 접근하는 프로토콜, 프로그램이고\n",
    "\n",
    "클라이언트가 서버에 명령을 실행하게 한다. 클라이언트는 서버에게 명령을 보내고, 서버는 명령의 결과를 클라이언트에게 보낸다.\n",
    "\n",
    "<img src = \"https://drive.google.com/uc?id=1hdzKy6Iw4usvbaNT97fYPIeE_Lelrc5d\" width = 600 height = 400>\n",
    "\n",
    "위의 그림은 간단한 예시이다.\n",
    "\n",
    "하둡의 예로 들면, 다른 사용자인 hadoop 이라는 사용자를 만들고 실제 hadoop 파일이 설치된 서버에 명령을 보내는 방식이였다.\n",
    "\n",
    "실제 hadoop 파일은 지금 사용하고 있는 컴퓨터에 설치돼있었고 hadoop 이라는 사용자는 같은 컴퓨터의 다른 사용자로 만들어 사용했다.\n",
    "\n",
    "나중에 실제로 ssh 를 사용할 때 정말 이해가 안 되겠다 싶으면, 클라이언트와 서버의 관계만 이해했다 하더라도 \n",
    "\n",
    "코드를 치면서 내가 지금 치는 코드가 무엇을 위한 코드인지 어느정도 감이 잡힐 것이기 때문에 \n",
    "\n",
    "개괄적인 내용은 아는 것이 많은 도움이 될 것이다."
   ]
  }
 ],
 "metadata": {
  "language_info": {
   "name": "python"
  },
  "orig_nbformat": 4
 },
 "nbformat": 4,
 "nbformat_minor": 2
}
