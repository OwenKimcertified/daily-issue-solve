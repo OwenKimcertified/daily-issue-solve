{
  "cells": [
    {
      "cell_type": "markdown",
      "metadata": {
        "id": "T8J0Yy_3B2DI"
      },
      "source": [
        "### 2-2. 비공개 클래스 속성"
      ]
    },
    {
      "cell_type": "code",
      "execution_count": null,
      "metadata": {
        "id": "atMJtXS-B2DL"
      },
      "outputs": [],
      "source": [
        "class class_name:\n",
        "    ''' this is docstring '''\n",
        "    __attribute = 'value' \n",
        "\n",
        "    def check(self):\n",
        "        ''' this is docstring2 '''\n",
        "        print(self.__attribute)"
      ]
    },
    {
      "cell_type": "markdown",
      "metadata": {
        "id": "Yu2mrG04B2DN"
      },
      "source": [
        "위와 같이 속성이름 앞에 __ 두 개를 붙이면 클래스 외부에선 접근할 수 없는 속성으로 변환됩니다.\n",
        "\n",
        "다시 말해 클래스의 외부에서는 접근할 수 없습니다.\n",
        "\n",
        "그리고 위의 코드와 같이 클래스나 함수 아래에 ''' 하고 싶은 말 ''' 을 쓰게되면 클래스나 함수에 커서를 올려뒀을 때 \n",
        "\n",
        "그 클래스나 함수에 대한 설명이 나오게 됩니다. ( 다른 사람에게 공유해야 할 경우 매우 유용 )"
      ]
    },
    {
      "cell_type": "code",
      "execution_count": null,
      "metadata": {
        "id": "xlxIBgC-B2DN",
        "outputId": "cbef9f9a-1e38-47aa-ea26-6c1657ae9036"
      },
      "outputs": [
        {
          "ename": "AttributeError",
          "evalue": "type object 'class_name' has no attribute '__attribute'",
          "output_type": "error",
          "traceback": [
            "\u001b[1;31m---------------------------------------------------------------------------\u001b[0m",
            "\u001b[1;31mAttributeError\u001b[0m                            Traceback (most recent call last)",
            "\u001b[1;32m<ipython-input-13-6c8c40b943a8>\u001b[0m in \u001b[0;36m<module>\u001b[1;34m\u001b[0m\n\u001b[1;32m----> 1\u001b[1;33m \u001b[0mprint\u001b[0m\u001b[1;33m(\u001b[0m\u001b[0mclass_name\u001b[0m\u001b[1;33m.\u001b[0m\u001b[0m__attribute\u001b[0m\u001b[1;33m)\u001b[0m\u001b[1;33m\u001b[0m\u001b[1;33m\u001b[0m\u001b[0m\n\u001b[0m",
            "\u001b[1;31mAttributeError\u001b[0m: type object 'class_name' has no attribute '__attribute'"
          ]
        }
      ],
      "source": [
        "print(class_name.__attribute) # 이건 클래스의 밖에서 접근한 코드."
      ]
    },
    {
      "cell_type": "markdown",
      "metadata": {
        "id": "PFC7VVTZB2DO"
      },
      "source": [
        "위와 같이 접근할 수 없는 모습."
      ]
    },
    {
      "cell_type": "code",
      "execution_count": null,
      "metadata": {
        "id": "XzuVZD53B2DP",
        "outputId": "ad537f50-e9e2-4103-bfd9-4157da50c4c0"
      },
      "outputs": [
        {
          "name": "stdout",
          "output_type": "stream",
          "text": [
            "value\n"
          ]
        }
      ],
      "source": [
        "a = class_name()\n",
        "\n",
        "a.check()   # 이건 클래스 내부에서 접근한 코드"
      ]
    },
    {
      "cell_type": "markdown",
      "metadata": {
        "id": "BqmKfafLB2DP"
      },
      "source": [
        "### 2-3. 파이썬에 내장된 property( ) 와 @property +$\\alpha$ getter 와 setter"
      ]
    },
    {
      "cell_type": "code",
      "execution_count": null,
      "metadata": {
        "id": "YDXzzdU9B2DP"
      },
      "outputs": [],
      "source": [
        "class Person:\n",
        "\tdef __init__(self, first_name, last_name):\n",
        "\t\tself.first_name = first_name\n",
        "\t\tself.last_name = last_name\n",
        "\t\tself.full_name = self.first_name + ' ' + self.last_name"
      ]
    },
    {
      "cell_type": "code",
      "execution_count": null,
      "metadata": {
        "id": "8N1BO3-kB2DQ",
        "outputId": "4a0d0478-4702-491e-a431-66266b3147fa"
      },
      "outputs": [
        {
          "name": "stdout",
          "output_type": "stream",
          "text": [
            "yes boy\n",
            "yes boy\n"
          ]
        }
      ],
      "source": [
        "a = Person('yes', 'boy')\n",
        "print(a.full_name)\n",
        "\n",
        "a.first_name = 'no'\n",
        "print(a.full_name)"
      ]
    },
    {
      "cell_type": "markdown",
      "metadata": {
        "id": "8HuIcHZ5B2DQ"
      },
      "source": [
        "??? first_name 을 yes 에서 no 로 바꿧지만 여전히 yes 로 출력됩니다.\n",
        "\n",
        "이거는 최초에 __ init __ 이 실행될 때 값이 정해져서 바뀌지 않기 때문인데 \n",
        "\n",
        "위와 상황같이 무언가 내용을 수정해야한다면 어떻게 코드를 만들어놓아야 할까요??\n",
        "\n",
        "답은 __@property__ !"
      ]
    },
    {
      "cell_type": "code",
      "execution_count": null,
      "metadata": {
        "id": "T-YYDWBiB2DR"
      },
      "outputs": [],
      "source": [
        "class Person2:\n",
        "\tdef __init__(self, first_name, last_name):\n",
        "\t\tself.first_name = first_name\n",
        "\t\tself.last_name = last_name\n",
        "\n",
        "\t@property\n",
        "\tdef full_name(self):\n",
        "\t\treturn self.first_name + ' ' + self.last_name"
      ]
    },
    {
      "cell_type": "code",
      "execution_count": null,
      "metadata": {
        "id": "23eAk43wB2DR",
        "outputId": "765881d8-0708-4e70-c21f-7d62ebb2207e"
      },
      "outputs": [
        {
          "name": "stdout",
          "output_type": "stream",
          "text": [
            "yes boy\n",
            "no boy\n"
          ]
        }
      ],
      "source": [
        "b = Person2('yes', 'boy')\n",
        "print(b.full_name)\n",
        "\n",
        "b.first_name = 'no'\n",
        "print(b.full_name)"
      ]
    },
    {
      "cell_type": "markdown",
      "metadata": {
        "id": "0mhVeXlZB2DR"
      },
      "source": [
        "@property 를 달아주고 full_name 을 따로 메소드로 떼어낸 후\n",
        "\n",
        "결과를 출력해보니 수정이 가능해진 모습입니다.\n",
        "\n",
        "@property를 사용하면 메소드를 속성처럼 사용할 수 있습니다.\n",
        "\n",
        "클래스 내에 다른 특성_들과 연관이 되어 있는 특성__들을 관리(수정)할 때 사용을 할 수 있습니다.\n",
        "\n",
        "위의 상황에서 [특성_ = first_name, last_name] , [특성__ = full_name]"
      ]
    },
    {
      "cell_type": "markdown",
      "metadata": {
        "id": "4zmuVeYSB2DR"
      },
      "source": [
        "### getter, setter\n",
        "\n",
        "이름 그대로 값을 가져오고, 값을 설정하는 메소드들.\n",
        "\n",
        "더 detail 한 작업을 할 때 사용."
      ]
    },
    {
      "cell_type": "code",
      "execution_count": null,
      "metadata": {
        "id": "4jffU3KyB2DS"
      },
      "outputs": [],
      "source": [
        "class Person3:\n",
        "\tdef __init__(self, first_name, last_name):\n",
        "\t\tself.first_name = first_name\n",
        "\t\tself.last_name = last_name\n",
        "\n",
        "\t@property\n",
        "\tdef full_name(self):\n",
        "\t\treturn self.first_name + ' ' + self.last_name  # getter\n",
        "\t\t\n",
        "\t@full_name.setter\n",
        "\tdef full_name(self, new_full_name):\n",
        "\t\tfirst_name, last_name = new_full_name.split()\n",
        "\t\tself.first_name = first_name\n",
        "\t\tself.last_name = last_name"
      ]
    },
    {
      "cell_type": "code",
      "execution_count": null,
      "metadata": {
        "id": "Ow2ehPDBB2DS",
        "outputId": "9e816a40-2921-455f-9411-964f46260b4f"
      },
      "outputs": [
        {
          "name": "stdout",
          "output_type": "stream",
          "text": [
            "yes boy\n",
            "correct\n",
            "girl\n",
            "correct girl\n"
          ]
        }
      ],
      "source": [
        "c = Person3('yes', 'boy')\n",
        "print(c.full_name)\n",
        "\n",
        "c.full_name = 'correct girl'\n",
        "print(c.first_name)\n",
        "print(c.last_name)\n",
        "print(c.full_name)"
      ]
    },
    {
      "cell_type": "markdown",
      "metadata": {
        "id": "rtYcDRGuB2DS"
      },
      "source": [
        "위의 결과를 보면 알 수 있는 것처럼\n",
        "\n",
        "setter 로 인자 값을 부여할 때는 c.full_name = 'correct girl' 과 같이 등호 = 로 넘겨주면 됩니다.\n",
        "\n",
        "그러면 def full_name(self, new_full_name) 에서 new_full_name 에 해당하는 인자는 correct girl 이 되고, 그 밑에 있는 내용들이 실행됩니다.\n",
        "\n",
        "그래서 정적인 상태였던 __ init __ 값들이 @property 와 setter 를 사용하니 동적으로 바뀐 모습을 볼 수 있습니다."
      ]
    },
    {
      "cell_type": "code",
      "execution_count": null,
      "metadata": {
        "id": "Oiu_JKBZB2DS"
      },
      "outputs": [],
      "source": [
        "# @full_name.setter 가 없는 경우\n",
        "\n",
        "class Person4:\n",
        "\tdef __init__(self, first_name, last_name):\n",
        "\t\tself.first_name = first_name\n",
        "\t\tself.last_name = last_name\n",
        "\n",
        "\t@property                            \n",
        "\tdef full_name(self):\n",
        "\t\treturn self.first_name + ' ' + self.last_name\n",
        "\t\t\n",
        "\tdef full_name(self, new_full_name):\n",
        "\t\tfirst_name, last_name = new_full_name.split()\n",
        "\t\tself.first_name = first_name\n",
        "\t\tself.last_name = last_name"
      ]
    },
    {
      "cell_type": "code",
      "execution_count": null,
      "metadata": {
        "id": "ou5XFUcDB2DT"
      },
      "outputs": [],
      "source": [
        "d = Person4('yes', 'boy')"
      ]
    },
    {
      "cell_type": "code",
      "execution_count": null,
      "metadata": {
        "id": "p1rYmjH-B2DT",
        "outputId": "9f7054ff-1cb7-4515-d059-3fa309f64f14"
      },
      "outputs": [
        {
          "name": "stdout",
          "output_type": "stream",
          "text": [
            "<bound method Person4.full_name of <__main__.Person4 object at 0x00000258690F1EF0>>\n"
          ]
        }
      ],
      "source": [
        "# 1.\n",
        "print(d.full_name)"
      ]
    },
    {
      "cell_type": "code",
      "execution_count": null,
      "metadata": {
        "id": "SrMxf-_RB2DT",
        "outputId": "f6dafba3-237a-4dfe-df18-432760db4cdd"
      },
      "outputs": [
        {
          "name": "stdout",
          "output_type": "stream",
          "text": [
            "None\n"
          ]
        }
      ],
      "source": [
        "# 2.\n",
        "print(d.full_name('yes boy'))"
      ]
    },
    {
      "cell_type": "markdown",
      "metadata": {
        "id": "uJfQA2iqB2DT"
      },
      "source": [
        "위와 같이 초기에 init 에서 없으니 자동으로 생성되지 않았고,\n",
        "\n",
        "\n",
        "1. 밑에 있는 full_name 메소드를 사용해야 하는데 d.full_name(인수) 를 넣지 않고 그냥 d.full_name 만 입력해서\n",
        "\n",
        "bound method Person4.full_name of <__ main__.Person4 object at 0x00000258690F1A58 이런식으로 Person4 의 method 이다 라고 출력합니다.\n",
        "\n",
        "2. __ init__ 에 정의되지 않은 특성이라 생성자(__ init__)로 만들어지지 않아 값이 저장이 안되는 모습인 것 같습니다."
      ]
    },
    {
      "cell_type": "code",
      "execution_count": null,
      "metadata": {
        "id": "A9jJ2wCcB2DU",
        "outputId": "a6ab6dfb-a520-449b-9c3a-f8af76041dc1"
      },
      "outputs": [
        {
          "name": "stdout",
          "output_type": "stream",
          "text": [
            "yes\n",
            "boy\n",
            "correct girl\n"
          ]
        }
      ],
      "source": [
        "d.full_name = 'correct girl' \n",
        "print(d.first_name)\n",
        "print(d.last_name)\n",
        "print(d.full_name)"
      ]
    },
    {
      "cell_type": "markdown",
      "metadata": {
        "id": "MeDF-VTKB2DU"
      },
      "source": [
        "그래서 위의 코드처럼 init 생성자에 의해 만들어진 값들은 first, last_name 에 저장됐지만\n",
        "\n",
        "full_name 의 경우에는 마지막에 설정한 값이 들어간 모습입니다."
      ]
    }
  ],
  "metadata": {
    "kernelspec": {
      "display_name": "Python 3.6.13 ('dong8')",
      "language": "python",
      "name": "python3"
    },
    "language_info": {
      "codemirror_mode": {
        "name": "ipython",
        "version": 3
      },
      "file_extension": ".py",
      "mimetype": "text/x-python",
      "name": "python",
      "nbconvert_exporter": "python",
      "pygments_lexer": "ipython3",
      "version": "3.6.13"
    },
    "orig_nbformat": 4,
    "vscode": {
      "interpreter": {
        "hash": "5b5365cb8580ccbd6501ab2c5a1f73940cde7328f057177e14be544581b9364b"
      }
    },
    "colab": {
      "provenance": []
    }
  },
  "nbformat": 4,
  "nbformat_minor": 0
}