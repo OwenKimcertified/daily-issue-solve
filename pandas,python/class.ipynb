{
  "cells": [
    {
      "cell_type": "markdown",
      "metadata": {
        "id": "Id8jQ9Gab3-z"
      },
      "source": [
        "### 파이썬의 함수, 클래스는 무엇일까??\n",
        "\n",
        "정말 고민이 많았다. 이걸 어떻게 설명해야 정말 잘 설명했다 할 수 있을까?? \n",
        "\n",
        "저마다의 이해 방법이 다르고 설명하는 방법도 달랐던 험수와 클래스.\n",
        "\n",
        "이제 최대한 쉽게 풀어서 설명해보려한다.(필자는 아직도 함수와 클래스에 대해 잘 모른다. 양자역학인가?)"
      ]
    },
    {
      "cell_type": "markdown",
      "metadata": {
        "id": "VbkMVPZQb3-2"
      },
      "source": [
        "### 1. 함수\n",
        "\n",
        "함수는 매우 유용하다. 코드의 재사용을 줄일 수 있기 때문에 복잡한 일을 하고 있다면 반드시 사용해야 한다고 생각한다.\n",
        "\n",
        "물론 \"아니 솔직히 그냥 함수 쓰지 않고 하나하나 쳐서 만들어도 결국 만들 수 있는거 아니야?\" 라고 생각하는 사람이 있을 수 있다.\n",
        "\n",
        "그럼 그렇게 질문하는 사람들에게 그렇게 하라 라고 일부로 권하기도 한다. \n",
        "\n",
        "그렇게 결국 함수를 공부하러 다시 돌아올 것이다. ( 추후 설명할 클래스에서도 마찬가지 )\n",
        "\n",
        "수학에서의 함수와 마찬가지로 프로그래밍에서 함수도 \n",
        "\n",
        "\"어떤 값을 입력 받았을 때, 어떤 값을 돌려준다.\" 즉 $y = f(x)$ 와 일맥상통한다.\n",
        "\n",
        "결국 프로그래밍에서 함수는 f를 만드는 것 이라고 생각해도 좋겠다.\n",
        "\n",
        "반복되는 부분이 있을 경우 __반복적으로 사용되는 가치 있는 부분을 한 뭉치로 묶어서__ 함수화 한다.\n",
        "\n",
        "그리고 그 함수에 x값을 넣어 y값을 리턴받는다."
      ]
    },
    {
      "cell_type": "code",
      "execution_count": null,
      "metadata": {
        "id": "ul8RJzHSb3-3"
      },
      "outputs": [],
      "source": [
        "def 함수명(매개변수):\n",
        "    <수행할 문장1>\n",
        "    <수행할 문장2>\n",
        "    ...\n",
        "\n",
        "\"위의 코드는 함수의 구조이다. \" \n",
        "\n",
        "\" 예를 들어 \"\n",
        "\n",
        "a = 7 \n",
        "b = 2\n",
        "print(a + b)\n",
        "\n",
        "\"와 같은 식을 반복적으로 쓴다고 했을 때\"\n",
        "\n",
        "\"머리 속에서 하... 이걸 하나씩 다 치고있는게 맞나? 그냥 한 줄로 숫자만 넣어서 쓸 방법이 없을까? 라는 생각이들면\"\n",
        "\n",
        "def add(a, b):\n",
        "    return (a + b) # 결과 값을 리턴(반환)한다.\n",
        "\n",
        "add(a, b) \n",
        "\n",
        "\"\"\"\n",
        "이런 식으로 한 줄로 표현하게 할 수 있다.\n",
        "\n",
        "a 와 b 는 매개변수라고 하고 parameter 라고 한다.\n",
        "\n",
        "이는 함수를 작성할 때 넣어야 하는 값의 개수라고 생각하면 된다.\n",
        "\n",
        "a 와 b는 정해진 것이 아니고 진짜 아무거나 써도 된다.\n",
        "\n",
        "나중에 알아보기 쉽게 자신만의 방법으로 작성하면 되겠다.\n",
        "\n",
        "위의 함수의 경우 두 값을 더하는 함수이기 때문에 두 개의 arg(인수)를 할당해주면 되겠다.\n",
        "\n",
        "add(3, 4) 이렇게. (여기서 3 과 4 는 파라미터가 아니라 argument 인수라고 한다.)\n",
        "\n",
        "arg 에도 종류가 있다.\n",
        "\n",
        "1. 필수 인수 -> 위치를 지키며 전달되는 인수\n",
        "                즉 위의 add 함수 같은 경우 a 와 b 2 개의 파라미터를 지정해놨기 때문에\n",
        "                위 add 함수를 사용하기 위해서는 반드시 2 개의 인수를 순서를 지키며 넘겨줘야 원하는 결과가 나온다. \n",
        "                add 함수는 더하기 함수라 교환법칙이 적용되어 상관이 없지만, 항상 지키며 작업해야한다.\n",
        "\n",
        "2. 키워드 인수 -> 위처럼 위치를 지키지 않고 add( b = 7, a = 2) \n",
        "                 이렇게 값을 전달받는 인수를 파라미터와 매칭해서 값을 할당하는 방법도 있음.\n",
        "\n",
        "3. 기본 인수 -> 만약 def add(a , b = 7) 이렇게 함수를 생성한 경우\n",
        "                b = 7 은 기본 값으로 채택. \n",
        "                만약 b 의 값을 입력하지 않고 add(a) 를 했을 때 a 파라미터에 대한 인수와 7 을 더한 값을 리턴하게 됨.\n",
        "\n",
        "그래서 매개변수는 일종의 미지수? 라고 이해하면 되겠다.\n",
        "\"\"\""
      ]
    },
    {
      "cell_type": "markdown",
      "metadata": {
        "id": "aQzHOV47b3-4"
      },
      "source": [
        "### 더 나아가기 위한 개념 아스트리크 * <- 이게 뭐지?\n",
        "\n",
        "1. 언패킹\n",
        "\n",
        "a = [1,2,3,4,5]\n",
        "\n",
        "라는 리스트가 있을 때\n",
        "\n",
        "print(a)를 하면\n",
        "\n",
        "[1,2,3,4,5] 를 반환하지만\n",
        "\n",
        "print(*a) 를 하면\n",
        "\n",
        "1 2 3 4 5 를 반환한다.\n",
        "\n",
        "즉 리스트라는 껍질을 벗겨낸 것 (튜플도 가능, 딕셔너리 타입은 {}가 벗겨지고 key 값만 반환함.)\n",
        "\n",
        "2. 가변 매개변수(인자)\n",
        "\n",
        "보통 *args ,**kwargs 로 표현한다.\n",
        "\n",
        "인자의 개수를 모르거나, 리스트같은 n개의 인자 값이 있는 경우 모두 받아 처리해야할 때 사용한다.\n",
        "\n",
        "위치가 중요한 위치 인수는 *args 한 개만 붙여서 사용하고,\n",
        "\n",
        "키워드 인수는 **kwargs 두 개를 붙여서 사용한다."
      ]
    },
    {
      "cell_type": "code",
      "execution_count": null,
      "metadata": {
        "id": "pPWqXKlMb3-5",
        "outputId": "cd899886-9290-43c2-b341-97566f29f24d"
      },
      "outputs": [
        {
          "name": "stdout",
          "output_type": "stream",
          "text": [
            "('임꺽정', '한소리', 1, 2, 3, 4, ['야호', '안녕'])\n"
          ]
        },
        {
          "data": {
            "text/plain": [
              "tuple"
            ]
          },
          "execution_count": 8,
          "metadata": {},
          "output_type": "execute_result"
        }
      ],
      "source": [
        "# *args 경우\n",
        "\n",
        "def ar(*args):\n",
        "    print(args)\n",
        "    return type(args)\n",
        "\n",
        "ar('임꺽정', '한소리', 1, 2, 3, 4, ['야호', '안녕'])"
      ]
    },
    {
      "cell_type": "markdown",
      "metadata": {
        "id": "RKeZg_-ob3-6"
      },
      "source": [
        "이런 식으로 여러가지의 값을 넣을 경우 순서대로 인수로 받아들이고 타입은 튜플로 알아듣는다.\n",
        "\n",
        "쉽게 말해 필수 인수의 개수가 정해진 것이 따로 없음."
      ]
    },
    {
      "cell_type": "code",
      "execution_count": null,
      "metadata": {
        "id": "fz3Mo23ib3-6",
        "outputId": "c8631a65-5841-44b0-b18d-74c5ecfdd4c6"
      },
      "outputs": [
        {
          "name": "stdout",
          "output_type": "stream",
          "text": [
            "{'red': 'strawberry'}\n",
            "strawberry\n"
          ]
        },
        {
          "data": {
            "text/plain": [
              "dict"
            ]
          },
          "execution_count": 9,
          "metadata": {},
          "output_type": "execute_result"
        }
      ],
      "source": [
        "# **kwargs 경우\n",
        "\n",
        "def kwa(**kwargs):\n",
        "    print(kwargs)\n",
        "    print(kwargs['red'])\n",
        "    return type(kwargs)\n",
        "\n",
        "kwa(red = 'strawberry')"
      ]
    },
    {
      "cell_type": "markdown",
      "metadata": {
        "id": "wKSah_Y1b3-7"
      },
      "source": [
        "위와 같이 말 그대로 키워드 인자로 사용하고 별도의 지정을 하지 않고도 n 개의 값을 사용.\n",
        "\n",
        "타입은 딕셔너리로 나오고, 값을 입력하는 형태를 보면 key : value 형태로 돼있어 이해하기 쉬움."
      ]
    },
    {
      "cell_type": "code",
      "execution_count": null,
      "metadata": {
        "id": "8ijDg0iEb3-7",
        "outputId": "b50512fa-13ed-4e25-85c8-0190a4666fb0"
      },
      "outputs": [
        {
          "name": "stdout",
          "output_type": "stream",
          "text": [
            "('lion', 'desire')\n",
            "{'kind': 'cat', 'color': 'black'}\n"
          ]
        },
        {
          "data": {
            "text/plain": [
              "(tuple, dict)"
            ]
          },
          "execution_count": 12,
          "metadata": {},
          "output_type": "execute_result"
        }
      ],
      "source": [
        "# 둘을 동시에 쓸 경우\n",
        "\n",
        "def ar_kwa (*ssera, **fin):  # 그리고 위에서 말했 듯. 파라미터에 아스트리크를 붙여서 사용하기 때문에 파라미터 이름은 자유~\n",
        "    print(ssera)\n",
        "    print(fin)\n",
        "    return type(ssera), type(fin)\n",
        "\n",
        "ar_kwa('lion', 'desire' , kind = 'cat', color = 'black')"
      ]
    },
    {
      "cell_type": "markdown",
      "metadata": {
        "id": "Lrvp50y8b3-7"
      },
      "source": [
        "위와 같이 나온다.\n",
        "\n",
        "그리고 항상 positional arg 가 keyword arg 보다 앞에 할당돼야함. \n",
        "\n",
        "왜냐하면 positional arg 는 생략이 불가능하고 입력받는 개수만큼 입력받은 순서대로 인자를 전달하기 때문."
      ]
    },
    {
      "cell_type": "markdown",
      "metadata": {
        "id": "fbr0A4mSb3-8"
      },
      "source": [
        "### 2. 클래스 (이해의 끈을 놓지말자.)\n",
        "\n",
        "만약 클래스를 보고 '뭐야 그냥 함수들 모아놓고 클래스라고 하면 어쩌자는거야? 난 이해하기 난해하니까 그냥 함수 여러개 만들어서 써도 문제없어'\n",
        "\n",
        "라는 분들.. 좋습니다. 그렇게 해보시고 결국은 다시 돌아오실 거라고 생각합니다. \n",
        "\n",
        "클래스도 함수와 마찬가지로 코드의 재사용을 줄일 수 있고, 편리해서 사용합니다.\n",
        "\n",
        "인터넷에 검색해보면 클래스를 붕어빵 틀, 과자 틀, 설계도 등으로 표현하는 경우가 대다수이지만,\n",
        "\n",
        "저는 클래스를 \"코스트코\" 라고 말하고 싶습니다. 구역 별로 비슷한 물건끼리 구분지어져있고,\n",
        "\n",
        "물건이 많아도 원하는 물건은 그 안에서만 찾으면 나오기 때문."
      ]
    },
    {
      "cell_type": "code",
      "execution_count": null,
      "metadata": {
        "id": "5ub2fciXb3-8",
        "outputId": "c4fe25df-aaee-4c18-cbb9-df3d3feeaa57"
      },
      "outputs": [
        {
          "data": {
            "text/plain": [
              "'hello'"
            ]
          },
          "execution_count": 20,
          "metadata": {},
          "output_type": "execute_result"
        }
      ],
      "source": [
        "class practice:\n",
        "    a = 'b'\n",
        "\n",
        "    def func(b):\n",
        "        return \"hello\"\n",
        "\n",
        "k = practice()\n",
        "\n",
        "k.func()"
      ]
    },
    {
      "cell_type": "markdown",
      "metadata": {
        "id": "EjMthwMab3-8"
      },
      "source": [
        "\n",
        "위의 코드에서 \n",
        "\n",
        "practice는 클래스의 이름이고\n",
        "\n",
        "a 는 클래스의 속성 (attribute) 이고\n",
        "\n",
        "클래스 안에 있는 함수는 메소드 (method) 이고\n",
        "\n",
        "k 는 클래스를 선언한 객체이자 practice 라는 클래스의 인스턴스 (나 이제 이 클래스에 있는거 k 라는 변수에 쓸거야)\n",
        "\n",
        "k.func() 은 나 아까 클래스 쓴다고 했으니까 그 클래스 안에 있는 메소드(함수) 쓸거야.\n",
        "\n",
        "만약 인코더 중 원핫인코더를 써보신 분이 있다면 \n",
        "\n",
        "ohe = OneHotEncoder() -> 나 원핫인코더 클래스의 인스턴스로 ohe 만들었어.\n",
        "\n",
        "ohe.fit_transform(X_train) -> 나 원핫인코더 클래스 내부에 있는 메소드인 fit_transform 쓸거야. (train set 말고 valid set 넣으니까 오류남. 신기 어떻게 한거지??)\n",
        "\n",
        "이렇게 이해할 수도 있습니다.\n",
        "\n",
        "그래서 만약 클래스가 없었다면 X_train, X_valid, X_test 각각의 세트에 계속 함수를 쓰며 따로 따로 지정하고, \n",
        "\n",
        "나중에 알아보기 쉽게한다고 주석처리하고 뭐하고 뭐하고 하면 이미 더러워진 코드를 발견하고 \n",
        "\n",
        "지금 내가 뭘 하고있지?? 라는 생각이 들 것 같습니다. (클래스가 필요한 이유)"
      ]
    },
    {
      "cell_type": "code",
      "execution_count": null,
      "metadata": {
        "id": "jb2oDOCjb3-9",
        "outputId": "bc602aec-9732-41a8-dc38-d5a85454d8e1"
      },
      "outputs": [
        {
          "ename": "TypeError",
          "evalue": "func() takes 0 positional arguments but 1 was given",
          "output_type": "error",
          "traceback": [
            "\u001b[1;31m---------------------------------------------------------------------------\u001b[0m",
            "\u001b[1;31mTypeError\u001b[0m                                 Traceback (most recent call last)",
            "Cell \u001b[1;32mIn [21], line 9\u001b[0m\n\u001b[0;32m      5\u001b[0m         \u001b[39mreturn\u001b[39;00m \u001b[39m\"\u001b[39m\u001b[39mhello\u001b[39m\u001b[39m\"\u001b[39m\n\u001b[0;32m      7\u001b[0m k \u001b[39m=\u001b[39m practice()\n\u001b[1;32m----> 9\u001b[0m k\u001b[39m.\u001b[39mfunc()\n",
            "\u001b[1;31mTypeError\u001b[0m: func() takes 0 positional arguments but 1 was given"
          ]
        }
      ],
      "source": [
        "class practice:\n",
        "    a = 'b'\n",
        "\n",
        "    def func():\n",
        "        return \"hello\"\n",
        "\n",
        "k = practice()\n",
        "\n",
        "k.func()"
      ]
    },
    {
      "cell_type": "markdown",
      "metadata": {
        "id": "01CaZrOUb3-9"
      },
      "source": [
        "그리고 만약 func 자리에 파라미터를 지워버리면\n",
        "\n",
        "다음과 같은 오류가 출력되는데 내용을 보고 유추해보면, \n",
        "\n",
        "클래스 안에 메소드를 쓰기로 하면 아무것도 쓰지 않아도 1 개의 인수가 할당되는 듯 합니다.\n",
        "\n",
        "따라서 파라미터를 1개 지정해줘야 할 것 같습니다."
      ]
    },
    {
      "cell_type": "markdown",
      "metadata": {
        "id": "3bqiPZRrb3-9"
      },
      "source": [
        "### 2-1 클래스의 속성은 클래스에 속해있고 모든 인스턴스에서 공유한다."
      ]
    },
    {
      "cell_type": "code",
      "execution_count": null,
      "metadata": {
        "id": "a0avH0Rwb3-9",
        "outputId": "38eb1e9d-50aa-4b35-b9c5-4d2d1333a063"
      },
      "outputs": [
        {
          "name": "stdout",
          "output_type": "stream",
          "text": [
            "['pen', 'ball'] ['pen', 'ball']\n"
          ]
        }
      ],
      "source": [
        "class student:\n",
        "    bag = []\n",
        "\n",
        "    # def putin(self, stuff):\n",
        "    #     self.bag.append(stuff)\n",
        "\n",
        "    def putin(flower, stuff):\n",
        "        flower.bag.append(stuff)\n",
        "\n",
        "a = student()\n",
        "b = student()\n",
        "\n",
        "a.putin('pen')\n",
        "b.putin('ball')\n",
        "\n",
        "print(a.bag, b.bag)"
      ]
    },
    {
      "cell_type": "markdown",
      "metadata": {
        "id": "vm7zg-zPb3-9"
      },
      "source": [
        "위와 같은 상황이 만들어진다. \n",
        "\n",
        "우선 메소드 안에 파라미터 중 stuff는 눈치를 채셧겠지만 self 는 정확히 정체가 무엇인지\n",
        "\n",
        "애매모호 하신 분들이 많을 것 같아서 최대한 쉽게 설명해보자면, 그냥 객체의 이름을 파라미터로 치환한 느낌입니다. \n",
        "\n",
        "다른 파라미터와 같이 self 도 giraffe, tiger 파라미터 명은 자유입니다.\n",
        "\n",
        "그리고 student 클래스의 속성인 bag는 클래스의 인스턴스인 a 와 b 모두에게 공유되기 때문에\n",
        "\n",
        "a 와 b 모두에게 같은 내용이 공유되고 있고 \n",
        "\n",
        "사실상 a.putin('pen') a.putin('ball') 을 한 결과와 다르지 않습니다."
      ]
    },
    {
      "cell_type": "code",
      "execution_count": null,
      "metadata": {
        "id": "1A25INPMb3--",
        "outputId": "736d4061-bbb2-4cb6-d592-4a2e38de3294"
      },
      "outputs": [
        {
          "name": "stdout",
          "output_type": "stream",
          "text": [
            "[('pen',), ('ball',)] [('pen',), ('ball',)]\n"
          ]
        }
      ],
      "source": [
        "class student:\n",
        "    bag = []\n",
        "\n",
        "    # def putin(self, stuff):\n",
        "    #     self.bag.append(stuff)\n",
        "\n",
        "    def putin(flower, *stuff):\n",
        "        flower.bag.append(stuff)\n",
        "\n",
        "a = student()\n",
        "b = student()\n",
        "\n",
        "a.putin('pen')\n",
        "b.putin('ball')\n",
        "\n",
        "print(a.bag, b.bag)\n",
        "\n",
        "# 위에서 기술했던 *args 도 활용해볼 수 있겠습니다."
      ]
    },
    {
      "cell_type": "markdown",
      "metadata": {
        "id": "P18_6UAsb3--"
      },
      "source": [
        "튜플 타입으로 반환한 모습"
      ]
    },
    {
      "cell_type": "code",
      "execution_count": null,
      "metadata": {
        "id": "glIdey5hb3--",
        "outputId": "a2b0cebc-d3d0-4e44-9054-279107e3bd5c"
      },
      "outputs": [
        {
          "name": "stdout",
          "output_type": "stream",
          "text": [
            "[('pen',), ('ball',)] [('pen',), ('ball',)]\n"
          ]
        }
      ],
      "source": [
        "class student:\n",
        "    bag = []\n",
        "\n",
        "    # def putin(self, stuff):\n",
        "    #     self.bag.append(stuff)\n",
        "\n",
        "    def putin(flower, *stuff):\n",
        "        flower.bag.append(stuff)\n",
        "\n",
        "    # def putin(self, *stuff):\n",
        "    #     student.bag.append(stuff)\n",
        "\n",
        "a = student()\n",
        "b = student()\n",
        "\n",
        "a.putin('pen')\n",
        "b.putin('ball')\n",
        "\n",
        "print(a.bag, b.bag)"
      ]
    },
    {
      "cell_type": "markdown",
      "metadata": {
        "id": "Zi7bkWNVb3--"
      },
      "source": [
        "위와 같이 클래스의 이름으로 속성에 접근하는 방법도 있습니다.\n",
        "\n",
        "하지만 메소드의 파라미터는 (인스턴스, 인자값) 을 유지해야 합니다."
      ]
    },
    {
      "cell_type": "markdown",
      "source": [
        "그렇다면 각각의 서로 다른 가방을 만들어주려면 어떻게 해야할까??"
      ],
      "metadata": {
        "id": "BULu3u2AI8iZ"
      }
    },
    {
      "cell_type": "code",
      "execution_count": null,
      "metadata": {
        "id": "BldG70Bub3--",
        "outputId": "bed19895-077e-46c3-c369-ef16d0b8bca3"
      },
      "outputs": [
        {
          "name": "stdout",
          "output_type": "stream",
          "text": [
            "[('pen',)] [('ball',)]\n"
          ]
        }
      ],
      "source": [
        "# solution\n",
        "class student:\n",
        "    def __init__(self):\n",
        "        self.bag = []\n",
        "\n",
        "    # def putin(self, stuff):\n",
        "    #     student.bag.append(stuff)  student 클래스에 bag 속성에 접근 self.bag 랑 똑같은 기능\n",
        "\n",
        "    def putin(self, *stuff):\n",
        "        self.bag.append(stuff)\n",
        "\n",
        "a = student()\n",
        "b = student()\n",
        "\n",
        "a.putin('pen')\n",
        "b.putin('ball')\n",
        "\n",
        "print(a.bag, b.bag)\n"
      ]
    },
    {
      "cell_type": "markdown",
      "metadata": {
        "id": "H_tkiuKNb3-_"
      },
      "source": [
        "위와 같이 __ init __ 함수를 만들어주면 해결됩니다.\n",
        "\n",
        "즉 이제 bag 라는 속성은 모든 인스턴스에게 공유되지 않고 \n",
        "\n",
        "각 인스턴스에 각자의 bag 속성이 부여됩니다."
      ]
    }
  ],
  "metadata": {
    "kernelspec": {
      "display_name": "Python 3.8.0 ('project3')",
      "language": "python",
      "name": "python3"
    },
    "language_info": {
      "codemirror_mode": {
        "name": "ipython",
        "version": 3
      },
      "file_extension": ".py",
      "mimetype": "text/x-python",
      "name": "python",
      "nbconvert_exporter": "python",
      "pygments_lexer": "ipython3",
      "version": "3.8.0"
    },
    "orig_nbformat": 4,
    "vscode": {
      "interpreter": {
        "hash": "af3002ef0b9acf975afbfa06a1fbf19b3589b85b8c8fac2458fd96954214497f"
      }
    },
    "colab": {
      "provenance": []
    }
  },
  "nbformat": 4,
  "nbformat_minor": 0
}