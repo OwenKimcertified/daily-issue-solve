{
 "cells": [
  {
   "cell_type": "markdown",
   "metadata": {},
   "source": [
    "### 2-4 클래스의 상속.\n",
    "\n",
    "클래스의 상속은 물려주는 클래스(parent,super class) 가 물려받는 클래스(child, sub class)에게 \n",
    "\n",
    "parent 클래스에 있는 내용들을 child 클래스가 가지게 되는 것."
   ]
  },
  {
   "cell_type": "code",
   "execution_count": 29,
   "metadata": {},
   "outputs": [
    {
     "name": "stdout",
     "output_type": "stream",
     "text": [
      "im parent\n",
      "im child\n"
     ]
    }
   ],
   "source": [
    "class parent():\n",
    "    '''부모 클래스 입니다.(super class)'''\n",
    "    \n",
    "    def method(self):\n",
    "        print('im parent')\n",
    "\n",
    "class child(parent):\n",
    "    '''자식 클래스 입니다.(sub class)'''\n",
    "    \n",
    "    def method2(self):\n",
    "        print('im child')\n",
    "\n",
    "a = child()\n",
    "a.method()\n",
    "a.method2()"
   ]
  },
  {
   "cell_type": "markdown",
   "metadata": {},
   "source": [
    "위의 코드와 같이 parent 라는 클래스를 child 라는 클래스에 상속시켰을 때\n",
    "\n",
    "child 클래스 내에 parent 의 메소드를 사용할 수 있는 것을 확인할 수 있습니다."
   ]
  },
  {
   "cell_type": "markdown",
   "metadata": {},
   "source": [
    "### 2-5. 메소드의 오버라이딩.\n",
    "\n",
    "메소드의 오버라이딩(overriding) 은 부모 클래스에서의 메소드를 \n",
    "\n",
    "상속받은 자식 클래스에서 수정하는 것을 의미합니다."
   ]
  },
  {
   "cell_type": "code",
   "execution_count": 33,
   "metadata": {},
   "outputs": [
    {
     "name": "stdout",
     "output_type": "stream",
     "text": [
      "im child too\n",
      "im child\n"
     ]
    }
   ],
   "source": [
    "class parent2():\n",
    "    '''부모 클래스 입니다.(super class)'''\n",
    "    \n",
    "    def method(self):\n",
    "        print('im parent')\n",
    "\n",
    "class child2(parent2):\n",
    "    '''자식 클래스 입니다.(sub class)'''\n",
    "    \n",
    "    def method(self):\n",
    "        print('im child too')\n",
    "\n",
    "    def method2(self):\n",
    "        print('im child')\n",
    "\n",
    "\n",
    "b = child2()\n",
    "b.method()\n",
    "b.method2()"
   ]
  },
  {
   "cell_type": "markdown",
   "metadata": {},
   "source": [
    "위와 같이 상속 받은 클래스에서 메소드를 수정해버리니 \n",
    "\n",
    "부모 클래스의 메소드는 작동하지 않는 모습입니다."
   ]
  },
  {
   "cell_type": "markdown",
   "metadata": {},
   "source": [
    "### +@ 부모 클래스의 메소드 호출\n",
    "\n",
    "자식 클래스의 메소드와 부모 클래스의 메소드를 둘 다 쓰고 싶을 때\n",
    "\n",
    "super() 라는 메소드를 사용합니다."
   ]
  },
  {
   "cell_type": "code",
   "execution_count": 35,
   "metadata": {},
   "outputs": [],
   "source": [
    "class parent3():\n",
    "    '''부모 클래스 입니다.(super class)'''\n",
    "    \n",
    "    def method(self):\n",
    "        print('im not parent')\n",
    "\n",
    "class child3(parent3):\n",
    "    '''자식 클래스 입니다.(sub class)'''\n",
    "    \n",
    "    def method(self):\n",
    "        super().method()\n",
    "        print('im child too')\n",
    "\n",
    "    def method2(self):\n",
    "        print('im child')"
   ]
  },
  {
   "cell_type": "code",
   "execution_count": 36,
   "metadata": {},
   "outputs": [
    {
     "name": "stdout",
     "output_type": "stream",
     "text": [
      "im not parent\n",
      "im child too\n"
     ]
    }
   ],
   "source": [
    "c = child3()\n",
    "\n",
    "c.method()"
   ]
  },
  {
   "cell_type": "markdown",
   "metadata": {},
   "source": [
    "위와 같이 부모 클래스의 메소드 내용인 'im not parent' 와 자식 클래스의 메소드 내용인 im child too 이\n",
    "\n",
    "같이 출력되는 것을 확인할 수 있습니다."
   ]
  },
  {
   "cell_type": "markdown",
   "metadata": {},
   "source": [
    "### +@ 다중 상속\n",
    "\n",
    "다중 상속도 일반적인 상속과 마찬가지 입니다."
   ]
  },
  {
   "cell_type": "code",
   "execution_count": null,
   "metadata": {},
   "outputs": [],
   "source": [
    "class 다중상속(child, child2, child3):\n",
    "    ''' 다중 상속 받은 클래스 입니다.'''\n",
    "        <내용>..."
   ]
  },
  {
   "cell_type": "markdown",
   "metadata": {},
   "source": [
    "위에 기술한 일반적인 상속과 같은 개념으로 사용하시면 됩니다."
   ]
  },
  {
   "cell_type": "markdown",
   "metadata": {},
   "source": [
    "여기까지가 클래스에서 아주 기본적인 내용만을 자세하게 풀어본 내용입니다.\n",
    "\n",
    "개인적으로도 정말 이해하기 난해했고, 무작정 쓰고 반복하고 물어봐가며 이해한 내용입니다.\n",
    "\n",
    "처음보면 당연히 받아들이기 매우 힘들다고 생각하지만, 그럴 때마다 왜 이게 필요할까를 생각하며\n",
    "\n",
    "클래스나 함수라는 것을 사용하는 목적성을 잃지 않고 계속 공부하다보면 분명 깨달음이 빠르게 오지 않을까... 합니다.\n",
    "\n",
    "근데 저도 클래스 잘 모릅니다."
   ]
  }
 ],
 "metadata": {
  "kernelspec": {
   "display_name": "Python 3.6.13 ('dong8')",
   "language": "python",
   "name": "python3"
  },
  "language_info": {
   "codemirror_mode": {
    "name": "ipython",
    "version": 3
   },
   "file_extension": ".py",
   "mimetype": "text/x-python",
   "name": "python",
   "nbconvert_exporter": "python",
   "pygments_lexer": "ipython3",
   "version": "3.6.13"
  },
  "orig_nbformat": 4,
  "vscode": {
   "interpreter": {
    "hash": "5b5365cb8580ccbd6501ab2c5a1f73940cde7328f057177e14be544581b9364b"
   }
  }
 },
 "nbformat": 4,
 "nbformat_minor": 2
}
