{
 "cells": [
  {
   "cell_type": "code",
   "execution_count": 1,
   "metadata": {},
   "outputs": [],
   "source": [
    "from pyspark.sql import SparkSession\n",
    "\n",
    "ss = SparkSession.builder.appName('test').getOrCreate()"
   ]
  },
  {
   "cell_type": "code",
   "execution_count": 13,
   "metadata": {},
   "outputs": [],
   "source": [
    "dir = '/Users/admin/Desktop/spark_hadoop/data-engineering/01-spark/dataset'\n",
    "file = '03newdata.csv'\n",
    "\n",
    "data = ss.read.csv(f\"file:///{dir}/{file}\", inferSchema = True, header = True)"
   ]
  },
  {
   "cell_type": "code",
   "execution_count": 17,
   "metadata": {},
   "outputs": [
    {
     "name": "stdout",
     "output_type": "stream",
     "text": [
      "+-----------------+--------------------+--------------------+-------------------+-------------------+-------------------+-------------------+------------+------------+----------+---------+-------------------+-----+----+---------+--------------------+-----------+----+----------+-------------------+-----------------+------------------+----------------+--------------+\n",
      "|hvfhs_license_num|dispatching_base_num|originating_base_num|   request_datetime|  on_scene_datetime|    pickup_datetime|   dropoff_datetime|PULocationID|DOLocationID|trip_miles|trip_time|base_passenger_fare|tolls| bcf|sales_tax|congestion_surcharge|airport_fee|tips|driver_pay|shared_request_flag|shared_match_flag|access_a_ride_flag|wav_request_flag|wav_match_flag|\n",
      "+-----------------+--------------------+--------------------+-------------------+-------------------+-------------------+-------------------+------------+------------+----------+---------+-------------------+-----+----+---------+--------------------+-----------+----+----------+-------------------+-----------------+------------------+----------------+--------------+\n",
      "|           HV0005|              B02510|                null|2020-03-01 00:00:12|               null|2020-03-01 00:03:40|2020-03-01 00:23:39|          81|         159|     8.655|     1199|              24.45|  0.0|0.54|      1.9|                 0.0|       null| 0.0|     19.65|                  N|                N|                 N|               N|             N|\n",
      "|           HV0005|              B02510|                null|2020-03-01 00:22:03|               null|2020-03-01 00:28:05|2020-03-01 00:38:57|         168|         119|     3.523|      652|              11.88|  0.0|0.24|     0.85|                 0.0|       null| 0.0|      9.37|                  N|                N|                 N|               N|             N|\n",
      "|           HV0003|              B02764|              B02764|2020-02-29 23:57:45|2020-03-01 00:01:04|2020-03-01 00:03:07|2020-03-01 00:15:04|         137|         209|      4.07|      717|              14.57|  0.0|0.38|     1.38|                2.75|       null| 0.0|     16.24|                  N|                Y|                  |               N|             N|\n",
      "|           HV0003|              B02764|              B02764|2020-03-01 00:04:06|2020-03-01 00:15:48|2020-03-01 00:18:42|2020-03-01 00:38:42|         209|          80|      4.73|     1200|              13.89|  0.0|0.35|     1.23|                0.75|       null| 0.0|     21.76|                  Y|                N|                  |               N|             N|\n",
      "|           HV0003|              B02764|              B02764|2020-03-01 00:42:46|2020-03-01 00:43:18|2020-03-01 00:44:24|2020-03-01 00:58:44|         256|         226|      4.03|      860|               20.2|  0.0|0.51|     1.79|                 0.0|       null| 0.0|     19.64|                  N|                N|                  |               N|             N|\n",
      "+-----------------+--------------------+--------------------+-------------------+-------------------+-------------------+-------------------+------------+------------+----------+---------+-------------------+-----+----+---------+--------------------+-----------+----+----------+-------------------+-----------------+------------------+----------------+--------------+\n",
      "only showing top 5 rows\n",
      "\n"
     ]
    }
   ],
   "source": [
    "df = data.drop('_c0')\n",
    "\n",
    "df.show(5)"
   ]
  },
  {
   "cell_type": "code",
   "execution_count": 18,
   "metadata": {},
   "outputs": [],
   "source": [
    "df.createOrReplaceTempView('mobility_dataset')"
   ]
  },
  {
   "cell_type": "code",
   "execution_count": 34,
   "metadata": {},
   "outputs": [
    {
     "name": "stdout",
     "output_type": "stream",
     "text": [
      "+-----------------------------+\n",
      "|split(pickup_datetime,  , -1)|\n",
      "+-----------------------------+\n",
      "|         [2020-03-01, 00:0...|\n",
      "|         [2020-03-01, 00:2...|\n",
      "|         [2020-03-01, 00:0...|\n",
      "|         [2020-03-01, 00:1...|\n",
      "|         [2020-03-01, 00:4...|\n",
      "|         [2020-03-01, 00:1...|\n",
      "|         [2020-03-01, 00:0...|\n",
      "|         [2020-03-01, 00:4...|\n",
      "|         [2020-03-01, 00:5...|\n",
      "|         [2020-03-01, 00:1...|\n",
      "|         [2020-03-01, 00:2...|\n",
      "|         [2020-03-01, 00:4...|\n",
      "|         [2020-03-01, 00:1...|\n",
      "|         [2020-03-01, 00:2...|\n",
      "|         [2020-03-01, 00:4...|\n",
      "|         [2020-03-01, 00:5...|\n",
      "|         [2020-03-01, 00:5...|\n",
      "|         [2020-03-01, 00:1...|\n",
      "|         [2020-03-01, 00:3...|\n",
      "|         [2020-03-01, 00:2...|\n",
      "+-----------------------------+\n",
      "only showing top 20 rows\n",
      "\n"
     ]
    }
   ],
   "source": [
    "ss.sql(\"select split(pickup_datetime, ' ')\\\n",
    "       from mobility_dataset\").show()"
   ]
  },
  {
   "cell_type": "code",
   "execution_count": 40,
   "metadata": {},
   "outputs": [
    {
     "name": "stdout",
     "output_type": "stream",
     "text": [
      "+-------------------+\n",
      "|    pickup_datetime|\n",
      "+-------------------+\n",
      "|2020-03-01 00:03:40|\n",
      "|2020-03-01 00:28:05|\n",
      "|2020-03-01 00:03:07|\n",
      "|2020-03-01 00:18:42|\n",
      "|2020-03-01 00:44:24|\n",
      "|2020-03-01 00:17:23|\n",
      "|2020-03-01 00:01:18|\n",
      "|2020-03-01 00:43:27|\n",
      "|2020-03-01 00:52:23|\n",
      "|2020-03-01 00:19:49|\n",
      "|2020-03-01 00:29:34|\n",
      "|2020-03-01 00:41:44|\n",
      "|2020-03-01 00:11:26|\n",
      "|2020-03-01 00:28:05|\n",
      "|2020-03-01 00:44:28|\n",
      "|2020-03-01 00:56:50|\n",
      "|2020-03-01 00:56:14|\n",
      "|2020-03-01 00:14:15|\n",
      "|2020-03-01 00:31:38|\n",
      "|2020-03-01 00:26:31|\n",
      "+-------------------+\n",
      "only showing top 20 rows\n",
      "\n"
     ]
    }
   ],
   "source": [
    "ss.sql(\"select pickup_datetime\\\n",
    "        from mobility_dataset\").show()"
   ]
  },
  {
   "cell_type": "code",
   "execution_count": 47,
   "metadata": {},
   "outputs": [
    {
     "name": "stdout",
     "output_type": "stream",
     "text": [
      "+------------+\n",
      "|splited_date|\n",
      "+------------+\n",
      "|  2020-03-01|\n",
      "|  2020-03-01|\n",
      "|  2020-03-01|\n",
      "|  2020-03-01|\n",
      "|  2020-03-01|\n",
      "|  2020-03-01|\n",
      "|  2020-03-01|\n",
      "|  2020-03-01|\n",
      "|  2020-03-01|\n",
      "|  2020-03-01|\n",
      "|  2020-03-01|\n",
      "|  2020-03-01|\n",
      "|  2020-03-01|\n",
      "|  2020-03-01|\n",
      "|  2020-03-01|\n",
      "|  2020-03-01|\n",
      "|  2020-03-01|\n",
      "|  2020-03-01|\n",
      "|  2020-03-01|\n",
      "|  2020-03-01|\n",
      "+------------+\n",
      "only showing top 20 rows\n",
      "\n"
     ]
    }
   ],
   "source": [
    "ss.sql(\"select split(pickup_datetime, ' ')[0] as splited_date\\\n",
    "       from mobility_dataset\").show()"
   ]
  },
  {
   "cell_type": "code",
   "execution_count": 49,
   "metadata": {},
   "outputs": [
    {
     "name": "stdout",
     "output_type": "stream",
     "text": [
      "+--------+\n",
      "|count(1)|\n",
      "+--------+\n",
      "|  648990|\n",
      "|  784260|\n",
      "|  697880|\n",
      "|  707879|\n",
      "|  731165|\n",
      "|  872012|\n",
      "|  886071|\n",
      "|  731222|\n",
      "|  628940|\n",
      "|  626474|\n",
      "|  628601|\n",
      "|  643257|\n",
      "|  660914|\n",
      "|  569397|\n",
      "|  391518|\n",
      "|  448125|\n",
      "|  252773|\n",
      "|  312298|\n",
      "|  269233|\n",
      "|  261900|\n",
      "+--------+\n",
      "only showing top 20 rows\n",
      "\n"
     ]
    }
   ],
   "source": [
    "ss.sql(\"select count(*)\\\n",
    "       from(select split(pickup_datetime, ' ')[0] as splited_date\\\n",
    "            from mobility_dataset)\\\n",
    "       group by splited_date\").show()"
   ]
  },
  {
   "cell_type": "code",
   "execution_count": 35,
   "metadata": {},
   "outputs": [
    {
     "name": "stdout",
     "output_type": "stream",
     "text": [
      "+-----------+----------+\n",
      "|pickup_date|trip_count|\n",
      "+-----------+----------+\n",
      "| 2020-03-01|    784260|\n",
      "| 2020-03-02|    648990|\n",
      "| 2020-03-03|    697880|\n",
      "| 2020-03-04|    707879|\n",
      "| 2020-03-05|    731165|\n",
      "| 2020-03-06|    872012|\n",
      "| 2020-03-07|    886071|\n",
      "| 2020-03-08|    731222|\n",
      "| 2020-03-09|    628940|\n",
      "| 2020-03-10|    626474|\n",
      "| 2020-03-11|    628601|\n",
      "| 2020-03-12|    643257|\n",
      "| 2020-03-13|    660914|\n",
      "| 2020-03-14|    569397|\n",
      "| 2020-03-15|    448125|\n",
      "| 2020-03-16|    391518|\n",
      "| 2020-03-17|    312298|\n",
      "| 2020-03-18|    269233|\n",
      "| 2020-03-19|    252773|\n",
      "| 2020-03-20|    261900|\n",
      "+-----------+----------+\n",
      "only showing top 20 rows\n",
      "\n"
     ]
    }
   ],
   "source": [
    "ss.sql(\"select pickup_datetime as pickup_date, count(*) as trip_count\\\n",
    "       from (select split(pickup_datetime, ' ')[0] as pickup_datetime \\\n",
    "       from mobility_dataset)\\\n",
    "       group by pickup_datetime\\\n",
    "       order by pickup_datetime asc\").show()"
   ]
  }
 ],
 "metadata": {
  "kernelspec": {
   "display_name": "newkaf",
   "language": "python",
   "name": "python3"
  },
  "language_info": {
   "codemirror_mode": {
    "name": "ipython",
    "version": 3
   },
   "file_extension": ".py",
   "mimetype": "text/x-python",
   "name": "python",
   "nbconvert_exporter": "python",
   "pygments_lexer": "ipython3",
   "version": "3.8.0"
  },
  "orig_nbformat": 4
 },
 "nbformat": 4,
 "nbformat_minor": 2
}
